{
 "cells": [
  {
   "cell_type": "code",
   "execution_count": 1,
   "metadata": {},
   "outputs": [],
   "source": [
    "# imports for array-handling and plotting\n",
    "import numpy as np\n",
    "import matplotlib\n",
    "import cv2\n",
    "import matplotlib.pyplot as plt\n",
    "\n",
    "# let's keep our keras backend tensorflow quiet\n",
    "import os\n",
    "os.environ['TF_CPP_MIN_LOG_LEVEL']='3'\n",
    "# for testing on CPU\n",
    "#os.environ['CUDA_VISIBLE_DEVICES'] = ''\n",
    "\n",
    "# keras imports for the dataset and building our neural network\n",
    "from keras.datasets import mnist\n",
    "from keras.models import Sequential, load_model\n",
    "from keras.layers.core import Dense, Dropout, Activation,Flatten\n",
    "from keras.utils import np_utils"
   ]
  },
  {
   "cell_type": "code",
   "execution_count": 2,
   "metadata": {},
   "outputs": [],
   "source": [
    "\n",
    "(X_train, y_train), (X_test, y_test) = mnist.load_data()\n"
   ]
  },
  {
   "cell_type": "code",
   "execution_count": 3,
   "metadata": {},
   "outputs": [],
   "source": [
    "w = 26\n",
    "h = 26\n",
    "train = []\n",
    "for image in X_train:\n",
    "    #read images path\n",
    "    img = image\n",
    "    re = cv2.resize(img, (w,h))\n",
    "    train.append(re)\n",
    "\n",
    "test = []\n",
    "for image in X_test:\n",
    "    #read images path\n",
    "    img = image\n",
    "    re = cv2.resize(img, (w,h))\n",
    "    test.append(re)"
   ]
  },
  {
   "cell_type": "code",
   "execution_count": 4,
   "metadata": {},
   "outputs": [
    {
     "name": "stderr",
     "output_type": "stream",
     "text": [
      "<ipython-input-4-b81054623548>:9: UserWarning: Matplotlib is currently using module://ipykernel.pylab.backend_inline, which is a non-GUI backend, so cannot show the figure.\n",
      "  fig.show()\n"
     ]
    },
    {
     "data": {
      "image/png": "[encoded data removed]",
      "text/plain": [
       "<Figure size 432x288 with 9 Axes>"
      ]
     },
     "metadata": {},
     "output_type": "display_data"
    }
   ],
   "source": [
    "fig = plt.figure()\n",
    "for i in range(9):\n",
    "    plt.subplot(3,3,i+1)\n",
    "    plt.tight_layout()\n",
    "    plt.imshow(train[i], cmap='gray', interpolation='none')\n",
    "    plt.title(\"Digit: {}\".format(y_train[i]))\n",
    "    plt.xticks([])\n",
    "    plt.yticks([])\n",
    "fig.show()"
   ]
  },
  {
   "cell_type": "code",
   "execution_count": 5,
   "metadata": {},
   "outputs": [],
   "source": [
    "train=np.array(train)\n",
    "test=np.array(test)"
   ]
  },
  {
   "cell_type": "code",
   "execution_count": 6,
   "metadata": {},
   "outputs": [],
   "source": [
    "X_train = train.reshape(60000, w*h)\n",
    "X_test = test.reshape(10000, w*h)\n",
    "\n",
    "X_train=X_train/255\n",
    "X_test=X_test/255\n"
   ]
  },
  {
   "cell_type": "code",
   "execution_count": 7,
   "metadata": {},
   "outputs": [
    {
     "name": "stdout",
     "output_type": "stream",
     "text": [
      "Shape before one-hot encoding:  (60000,)\n",
      "Shape after one-hot encoding:  (60000, 10)\n"
     ]
    }
   ],
   "source": [
    "n_classes = 10\n",
    "print(\"Shape before one-hot encoding: \", y_train.shape)\n",
    "Y_train = np_utils.to_categorical(y_train,n_classes)\n",
    "Y_test = np_utils.to_categorical(y_test, n_classes)\n",
    "print(\"Shape after one-hot encoding: \", Y_train.shape)"
   ]
  },
  {
   "cell_type": "code",
   "execution_count": 8,
   "metadata": {},
   "outputs": [],
   "source": [
    "# building a linear stack of layers with the sequential model\n",
    "model = Sequential()\n",
    "model.add(Dense(384, input_shape=(w*h,)))\n",
    "model.add(Activation('relu'))\n",
    "\n",
    "model.add(Dense(394))\n",
    "model.add(Activation('relu'))\n",
    "\n",
    "model.add(Dense(10))\n",
    "model.add(Activation('softmax'))"
   ]
  },
  {
   "cell_type": "code",
   "execution_count": 9,
   "metadata": {},
   "outputs": [],
   "source": [
    "model.compile(loss='categorical_crossentropy', metrics=['acc'], optimizer='adam')"
   ]
  },
  {
   "cell_type": "code",
   "execution_count": 10,
   "metadata": {},
   "outputs": [
    {
     "name": "stdout",
     "output_type": "stream",
     "text": [
      "Model: \"sequential\"\n",
      "_________________________________________________________________\n",
      "Layer (type)                 Output Shape              Param #   \n",
      "=================================================================\n",
      "dense (Dense)                (None, 384)               259968    \n",
      "_________________________________________________________________\n",
      "activation (Activation)      (None, 384)               0         \n",
      "_________________________________________________________________\n",
      "dense_1 (Dense)              (None, 394)               151690    \n",
      "_________________________________________________________________\n",
      "activation_1 (Activation)    (None, 394)               0         \n",
      "_________________________________________________________________\n",
      "dense_2 (Dense)              (None, 10)                3950      \n",
      "_________________________________________________________________\n",
      "activation_2 (Activation)    (None, 10)                0         \n",
      "=================================================================\n",
      "Total params: 415,608\n",
      "Trainable params: 415,608\n",
      "Non-trainable params: 0\n",
      "_________________________________________________________________\n"
     ]
    }
   ],
   "source": [
    "model.summary()"
   ]
  },
  {
   "cell_type": "code",
   "execution_count": 11,
   "metadata": {
    "scrolled": true
   },
   "outputs": [
    {
     "name": "stdout",
     "output_type": "stream",
     "text": [
      "Epoch 1/30\n",
      "88/88 [==============================] - 3s 34ms/step - loss: 0.4238 - acc: 0.8879 - val_loss: 0.1926 - val_acc: 0.9425\n",
      "Epoch 2/30\n",
      "88/88 [==============================] - 3s 31ms/step - loss: 0.1541 - acc: 0.9551 - val_loss: 0.1199 - val_acc: 0.9638\n",
      "Epoch 3/30\n",
      "88/88 [==============================] - 3s 31ms/step - loss: 0.1025 - acc: 0.9700 - val_loss: 0.0969 - val_acc: 0.9713\n",
      "Epoch 4/30\n",
      "88/88 [==============================] - 3s 31ms/step - loss: 0.0748 - acc: 0.9782 - val_loss: 0.0838 - val_acc: 0.9745\n",
      "Epoch 5/30\n",
      "88/88 [==============================] - 3s 34ms/step - loss: 0.0600 - acc: 0.9815 - val_loss: 0.0720 - val_acc: 0.9782\n",
      "Epoch 6/30\n",
      "88/88 [==============================] - 3s 34ms/step - loss: 0.0475 - acc: 0.9864 - val_loss: 0.0662 - val_acc: 0.9798\n",
      "Epoch 7/30\n",
      "88/88 [==============================] - 3s 32ms/step - loss: 0.0389 - acc: 0.9882 - val_loss: 0.0640 - val_acc: 0.9796\n",
      "Epoch 8/30\n",
      "88/88 [==============================] - 3s 31ms/step - loss: 0.0328 - acc: 0.9905 - val_loss: 0.0641 - val_acc: 0.9803\n",
      "Epoch 9/30\n",
      "88/88 [==============================] - 3s 32ms/step - loss: 0.0275 - acc: 0.9919 - val_loss: 0.0607 - val_acc: 0.9817\n",
      "Epoch 10/30\n",
      "88/88 [==============================] - 3s 32ms/step - loss: 0.0212 - acc: 0.9944 - val_loss: 0.0596 - val_acc: 0.9805\n",
      "Epoch 11/30\n",
      "88/88 [==============================] - 3s 34ms/step - loss: 0.0168 - acc: 0.9955 - val_loss: 0.0630 - val_acc: 0.9798\n",
      "Epoch 12/30\n",
      "88/88 [==============================] - 3s 33ms/step - loss: 0.0140 - acc: 0.9966 - val_loss: 0.0632 - val_acc: 0.9814\n",
      "Epoch 13/30\n",
      "88/88 [==============================] - 3s 32ms/step - loss: 0.0119 - acc: 0.9970 - val_loss: 0.0625 - val_acc: 0.9812\n",
      "Epoch 14/30\n",
      "88/88 [==============================] - 3s 32ms/step - loss: 0.0121 - acc: 0.9966 - val_loss: 0.0609 - val_acc: 0.9813\n",
      "Epoch 15/30\n",
      "88/88 [==============================] - 3s 31ms/step - loss: 0.0084 - acc: 0.9981 - val_loss: 0.0610 - val_acc: 0.9823\n",
      "Epoch 16/30\n",
      "88/88 [==============================] - 3s 34ms/step - loss: 0.0062 - acc: 0.9988 - val_loss: 0.0619 - val_acc: 0.9810\n",
      "Epoch 17/30\n",
      "88/88 [==============================] - 3s 34ms/step - loss: 0.0054 - acc: 0.9991 - val_loss: 0.0665 - val_acc: 0.9816\n",
      "Epoch 18/30\n",
      "88/88 [==============================] - 3s 32ms/step - loss: 0.0035 - acc: 0.9996 - val_loss: 0.0639 - val_acc: 0.9832\n",
      "Epoch 19/30\n",
      "88/88 [==============================] - 3s 31ms/step - loss: 0.0026 - acc: 0.9997 - val_loss: 0.0648 - val_acc: 0.9827\n",
      "Epoch 20/30\n",
      "88/88 [==============================] - 3s 32ms/step - loss: 0.0026 - acc: 0.9997 - val_loss: 0.0657 - val_acc: 0.9825\n",
      "Epoch 21/30\n",
      "88/88 [==============================] - 3s 32ms/step - loss: 0.0025 - acc: 0.9997 - val_loss: 0.0664 - val_acc: 0.9827\n",
      "Epoch 22/30\n",
      "88/88 [==============================] - 3s 33ms/step - loss: 0.0016 - acc: 0.9999 - val_loss: 0.0642 - val_acc: 0.9837\n",
      "Epoch 23/30\n",
      "88/88 [==============================] - 3s 34ms/step - loss: 0.0010 - acc: 1.0000 - val_loss: 0.0637 - val_acc: 0.9841\n",
      "Epoch 24/30\n",
      "88/88 [==============================] - 3s 31ms/step - loss: 7.9891e-04 - acc: 1.0000 - val_loss: 0.0651 - val_acc: 0.9827\n",
      "Epoch 25/30\n",
      "88/88 [==============================] - 3s 32ms/step - loss: 8.2642e-04 - acc: 0.9999 - val_loss: 0.0686 - val_acc: 0.9834\n",
      "Epoch 26/30\n",
      "88/88 [==============================] - 3s 32ms/step - loss: 6.1794e-04 - acc: 1.0000 - val_loss: 0.0692 - val_acc: 0.9835\n",
      "Epoch 27/30\n",
      "88/88 [==============================] - 3s 33ms/step - loss: 5.4580e-04 - acc: 1.0000 - val_loss: 0.0689 - val_acc: 0.9842\n",
      "Epoch 28/30\n",
      "88/88 [==============================] - 3s 34ms/step - loss: 4.7726e-04 - acc: 1.0000 - val_loss: 0.0699 - val_acc: 0.9841\n",
      "Epoch 29/30\n",
      "88/88 [==============================] - 3s 33ms/step - loss: 4.1582e-04 - acc: 1.0000 - val_loss: 0.0704 - val_acc: 0.9838\n",
      "Epoch 30/30\n",
      "88/88 [==============================] - 3s 32ms/step - loss: 4.0841e-04 - acc: 1.0000 - val_loss: 0.0685 - val_acc: 0.9836\n"
     ]
    },
    {
     "data": {
      "text/plain": [
       "<tensorflow.python.keras.callbacks.History at 0x23361504bb0>"
      ]
     },
     "execution_count": 11,
     "metadata": {},
     "output_type": "execute_result"
    }
   ],
   "source": [
    "model.fit(X_train, Y_train, batch_size=686, epochs=30,validation_data=(X_test, Y_test))"
   ]
  },
  {
   "cell_type": "code",
   "execution_count": 12,
   "metadata": {},
   "outputs": [
    {
     "name": "stdout",
     "output_type": "stream",
     "text": [
      "313/313 [==============================] - 1s 2ms/step - loss: 0.0685 - acc: 0.9836\n"
     ]
    },
    {
     "data": {
      "text/plain": [
       "0.9836000204086304"
      ]
     },
     "execution_count": 12,
     "metadata": {},
     "output_type": "execute_result"
    }
   ],
   "source": [
    "model.evaluate(X_test,Y_test)[1]"
   ]
  },
  {
   "cell_type": "code",
   "execution_count": 20,
   "metadata": {},
   "outputs": [],
   "source": [
    "pred=model.predict(X_test)\n",
    "for i in range(0,len(pred)):\n",
    "    for j in range(0,len(pred[0])):\n",
    "        if(pred[i][j]>=0.5):\n",
    "            pred[i][j]=int(1)\n",
    "        else:\n",
    "            pred[i][j]=int(0)"
   ]
  },
  {
   "cell_type": "code",
   "execution_count": 22,
   "metadata": {},
   "outputs": [],
   "source": [
    "pred=np.argmax(pred,1)"
   ]
  },
  {
   "cell_type": "code",
   "execution_count": 24,
   "metadata": {},
   "outputs": [],
   "source": [
    "ytest=np.argmax(Y_test,1)"
   ]
  },
  {
   "cell_type": "code",
   "execution_count": 26,
   "metadata": {},
   "outputs": [],
   "source": [
    "from sklearn.metrics import confusion_matrix\n",
    "\n",
    "cm=confusion_matrix(ytest,pred)"
   ]
  },
  {
   "cell_type": "code",
   "execution_count": 29,
   "metadata": {},
   "outputs": [
    {
     "data": {
      "image/png": "[encoded data removed]",
      "text/plain": [
       "<Figure size 432x360 with 2 Axes>"
      ]
     },
     "metadata": {
      "needs_background": "light"
     },
     "output_type": "display_data"
    }
   ],
   "source": [
    "import matplotlib\n",
    "import seaborn as sns\n",
    "import pandas as pd\n",
    "import numpy as np\n",
    "from sklearn.svm import SVC\n",
    "from sklearn.metrics import accuracy_score, confusion_matrix, precision_recall_fscore_support\n",
    "import matplotlib.pyplot as plt\n",
    "cm_df = pd.DataFrame(cm,\n",
    "                     index = np.unique(ytest), \n",
    "                     columns = np.unique(ytest))\n",
    "\n",
    "plt.figure(figsize=(6,5))\n",
    "sns.heatmap(cm_df,cmap=\"Blues\", annot=True)\n",
    "plt.title(' NN \\nAccuracy:{0:.3f}'.format(accuracy_score(ytest, pred)))\n",
    "plt.ylabel('True label')\n",
    "plt.xlabel('Predicted label')\n",
    "plt.show()"
   ]
  },
  {
   "cell_type": "code",
   "execution_count": null,
   "metadata": {},
   "outputs": [],
   "source": []
  }
 ],
 "metadata": {
  "kernelspec": {
   "display_name": "Python 3",
   "language": "python",
   "name": "python3"
  },
  "language_info": {
   "codemirror_mode": {
    "name": "ipython",
    "version": 3
   },
   "file_extension": ".py",
   "mimetype": "text/x-python",
   "name": "python",
   "nbconvert_exporter": "python",
   "pygments_lexer": "ipython3",
   "version": "3.7.7"
  }
 },
 "nbformat": 4,
 "nbformat_minor": 4
}
